{
  "cells": [
    {
      "cell_type": "markdown",
      "source": [
        "# Group project\n",
        "\n",
        "For the group project, you will carry out your own data science project of your choice. Finding a project yourself can be very fun, but also overwhelming if you don't know where to look. In this notebook, you will find some recommendations for websites to find your own dataset/project, as well as some example projects. You can choose any of the example projects, or create your own!\n",
        "\n",
        "Important dates:\n",
        "\n",
        "*   18 March: form project groups, send by email to Marieke\n",
        "*   8 April: definitive dataset + research question, send by email to Marieke\n",
        "*   13 May: hand-in report and code\n",
        "*   27 May: presentations, peer review, final grades"
      ],
      "metadata": {
        "id": "KMWvkdRMATUr"
      }
    },
    {
      "cell_type": "markdown",
      "source": [
        "## Finding your own dataset\n",
        "\n",
        "[Kaggle](https://www.kaggle.com/datasets) has probably the best collection of datasets on the internet. Datasets are often uploaded as part of contests, where people will make prediction models and submit their best performing algorithm. But even without entering the competition or after it's closed, you can download the datasets with a free account! You can also view other people's notebooks to get ideas for analyses.\n",
        "\n",
        "[Google Research](https://datasetsearch.research.google.com/) also has a dataset database. Just search for any topic and you'll find many datasets to choose from. They also have image datasets, in case you're up for an adventure with neural networks 😀\n",
        "\n",
        "[Tableau](https://www.tableau.com/learn/articles/free-public-data-sets) has nicely curated datasets available on topics such as public health, societal impact and climate.\n",
        "\n",
        "[The Netherlands Forensic Institute](https://github.com/NetherlandsForensicInstitute) has several forensic datasets on their github page. This data is a bit harder to work with because it requires some effort to understand the variables, but that's a good preview of life as a data scientist!\n",
        "\n",
        "[r/datasets](https://www.reddit.com/r/datasets/) has lots of people sharing, requesting and talking about datasets.\n",
        "\n",
        "If you want a bigger challenge, it is also an option to make your own dataset. For instance, you could scrape all the posts on the subreddit r/Random_Acts_Of_Pizza, and make a model that predict which posts will get a pizza and which won't. The one thing we do not recommend is to collect your data through surveys - if you really want to do this, talk to us about it soon so we can see if that will work."
      ],
      "metadata": {
        "id": "6Ns1vt8odDmI"
      }
    },
    {
      "cell_type": "markdown",
      "source": [
        "### Dataset requirements\n",
        "\n",
        "Out of all those options, how do you decide which datasets are suitable for the group project? It's hard to say, because it depends on your research question. Generally, it is hard to find a publicly available dataset if you have a specific research question in mind and do not want to change it.\n",
        "\n",
        "The easier option is to start with a general idea of a research question, or even just a topic, and then see which data is available. Look for datasets that have a nice number of variables (ten or more) as well as observations (at least, say, 10 000, but these numbers are guidelines). Then think of questions that you could answer using that dataset. If you don't find a question that you're interested in answering, or think that it may be difficult with the dataset, try moving to a different dataset and restart brainstorming. Keep in mind that usually, unexpected difficulties will arise during the analysis, so if you already have doubts before starting, that's a bad sign!\n",
        "\n",
        "If you would like us to think along about whether your research question and dataset are suitable, we are happy to help!"
      ],
      "metadata": {
        "id": "MBjCfsgoeZHm"
      }
    },
    {
      "cell_type": "markdown",
      "source": [
        "## Example datasets and research questions"
      ],
      "metadata": {
        "id": "A9ktWcFVfyto"
      }
    },
    {
      "cell_type": "markdown",
      "source": [
        "### 1. Success of kickstarter projects\n",
        "\n",
        "[Dataset on Kaggle](https://www.kaggle.com/datasets/kemical/kickstarter-projects)\n",
        "\n",
        "This dataset contains information on kickstarter projects and their success. You can use it to make a prediction model that predicts whether or not a project will meet its funding goal, or the amount it will raise, based on category and other characteristics."
      ],
      "metadata": {
        "id": "Q6jHbTcdf3Z_"
      }
    },
    {
      "cell_type": "markdown",
      "source": [
        "### 2. Mental health in tech\n",
        "\n",
        "[Dataset on Kaggle](https://www.kaggle.com/datasets/osmi/mental-health-in-tech-2016/data)\n",
        "\n",
        "This is survey data on attitutes toward mental health in the tech workplace. The survey consists of many questions, so you can use the data in a dimensionality reduction task (unsupervised learning) to see which variables can be grouped together. You could also use it in a prediction task and predict employer attitude to mental health based on company characteristics, or predict respondents' mental health status."
      ],
      "metadata": {
        "id": "fBQasLUphYJv"
      }
    },
    {
      "cell_type": "markdown",
      "source": [
        "### 3. Spending habits\n",
        "\n",
        "[Dataset on Kaggle](https://www.kaggle.com/datasets/sumanthnimmagadda/student-spending-dataset)\n",
        "\n",
        "It's a shame that the data is fictional, but it could still be fun to find clusters of fake students with similar spending habits!\n",
        "\n",
        "Alternatively, you could use [this dataset on Kaggle](https://www.kaggle.com/datasets/thedevastator/analyzing-credit-card-spending-habits-in-india) and aggregate the spendings by day and city, then try to predict (forecast) the monthly spending. Or similar to the student suggestion, try to cluster cities with similar spending patterns."
      ],
      "metadata": {
        "id": "MYbjIbemjx4d"
      }
    },
    {
      "cell_type": "markdown",
      "source": [
        "### 4. Google play store apps\n",
        "\n",
        "[Dataset on Kaggle](https://www.kaggle.com/datasets/bhavikjikadara/google-play-store-applications)\n",
        "\n",
        "Data on more than 10,000 apps in the Google play store. Predict the number of downloads, or find clusters of similar apps!"
      ],
      "metadata": {
        "id": "Bi-jT3rBlUtm"
      }
    }
  ],
  "metadata": {
    "interpreter": {
      "hash": "5d5a385fb25e5de8fbc95f798069024028d185c27871656d9b574a14263b347f"
    },
    "kernelspec": {
      "display_name": "Python 3 (ipykernel)",
      "language": "python",
      "name": "python3"
    },
    "language_info": {
      "codemirror_mode": {
        "name": "ipython",
        "version": 3
      },
      "file_extension": ".py",
      "mimetype": "text/x-python",
      "name": "python",
      "nbconvert_exporter": "python",
      "pygments_lexer": "ipython3",
      "version": "3.8.12"
    },
    "colab": {
      "provenance": []
    }
  },
  "nbformat": 4,
  "nbformat_minor": 0
}